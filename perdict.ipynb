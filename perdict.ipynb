{
 "cells": [
  {
   "cell_type": "code",
   "execution_count": 2,
   "metadata": {},
   "outputs": [],
   "source": [
    "import spacy\n",
    "\n",
    "trained_nlp = spacy.load(\"output/spacy_textcat/model-best\")"
   ]
  },
  {
   "cell_type": "code",
   "execution_count": 3,
   "metadata": {},
   "outputs": [
    {
     "data": {
      "text/plain": [
       "{'datasets': 0.8110906481742859,\n",
       " 'dataengineering': 0.07501229643821716,\n",
       " 'LanguageTechnology': 0.11389697343111038}"
      ]
     },
     "execution_count": 3,
     "metadata": {},
     "output_type": "execute_result"
    }
   ],
   "source": [
    "# Let's try it on an example text\n",
    "text = \"Hello\\n I'm looking for data about birds in New Zealand.\\nThe dataset would contain the birds species, colors, estimated population etc.\"\n",
    "# Perform the trained pipeline on this text\n",
    "doc = trained_nlp(text)\n",
    "# We can display the predicted categories\n",
    "doc.cats"
   ]
  },
  {
   "cell_type": "code",
   "execution_count": 4,
   "metadata": {},
   "outputs": [
    {
     "name": "stdout",
     "output_type": "stream",
     "text": [
      "entities (New Zealand,)\n",
      "sentences [Hello\n",
      " I'm looking for data about birds in New Zealand.\n",
      ", The dataset would contain the birds species, colors, estimated population etc.]\n",
      "classification {}\n"
     ]
    }
   ],
   "source": [
    "nlp = spacy.load(\"en_core_web_md\")\n",
    "\n",
    "doc_from_pretrained = nlp(text)\n",
    "print(\"entities\", doc_from_pretrained.ents)\n",
    "print(\"sentences\", list(doc_from_pretrained.sents))\n",
    "print(\"classification\", doc_from_pretrained.cats)"
   ]
  },
  {
   "cell_type": "code",
   "execution_count": 5,
   "metadata": {},
   "outputs": [],
   "source": [
    "import spacy\n",
    "\n",
    "trained_nlp = spacy.load(\"output/workout_buddy/model-best\")"
   ]
  },
  {
   "cell_type": "code",
   "execution_count": 6,
   "metadata": {},
   "outputs": [
    {
     "data": {
      "text/plain": [
       "{'ACTION': 0.07289097458124161,\n",
       " 'TRAINING': 0.3335314989089966,\n",
       " 'EXERCISE': 0.5590595602989197,\n",
       " 'USER': 0.034517984837293625}"
      ]
     },
     "execution_count": 6,
     "metadata": {},
     "output_type": "execute_result"
    }
   ],
   "source": [
    "# Let's try it on an example text\n",
    "text = \"Hello\\n I'm looking for data about birds in New Zealand.\\nThe dataset would contain the birds species, colors, estimated population etc.\"\n",
    "# Perform the trained pipeline on this text\n",
    "doc = trained_nlp(text)\n",
    "# We can display the predicted categories\n",
    "doc.cats"
   ]
  }
 ],
 "metadata": {
  "kernelspec": {
   "display_name": "model",
   "language": "python",
   "name": "python3"
  },
  "language_info": {
   "codemirror_mode": {
    "name": "ipython",
    "version": 3
   },
   "file_extension": ".py",
   "mimetype": "text/x-python",
   "name": "python",
   "nbconvert_exporter": "python",
   "pygments_lexer": "ipython3",
   "version": "3.11.4"
  }
 },
 "nbformat": 4,
 "nbformat_minor": 2
}
